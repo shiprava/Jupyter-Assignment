{
  "metadata": {
    "language_info": {
      "codemirror_mode": {
        "name": "python",
        "version": 3
      },
      "file_extension": ".py",
      "mimetype": "text/x-python",
      "name": "python",
      "nbconvert_exporter": "python",
      "pygments_lexer": "ipython3",
      "version": "3.8"
    },
    "kernelspec": {
      "name": "python",
      "display_name": "Pyolite",
      "language": "python"
    }
  },
  "nbformat_minor": 4,
  "nbformat": 4,
  "cells": [
    {
      "cell_type": "markdown",
      "source": "# My Jupyter Notebook on IBM Watson Studio",
      "metadata": {
        "tags": []
      }
    },
    {
      "cell_type": "markdown",
      "source": "**Siva Prakasam S**<br>\nData Scientist",
      "metadata": {}
    },
    {
      "cell_type": "markdown",
      "source": "*I am interested in Data Science because I am so curious on working on datas. I am enthusiastic, especially considering how quickly technology is changing the profession. I enjoy being a part of new technologies and trying out innovative solutions*",
      "metadata": {}
    },
    {
      "cell_type": "markdown",
      "source": "### Simple Addition",
      "metadata": {}
    },
    {
      "cell_type": "code",
      "source": "10+10+10+10+10",
      "metadata": {
        "tags": [],
        "trusted": true
      },
      "execution_count": 16,
      "outputs": [
        {
          "execution_count": 16,
          "output_type": "execute_result",
          "data": {
            "text/plain": "50"
          },
          "metadata": {}
        }
      ]
    },
    {
      "cell_type": "markdown",
      "source": "> My name is <b>Siva Prakasam S</b>\n****************************************************************\n> Click <a href=\"mailto:shiprava@gmail.com\">here</a> to contact me\n----------------------------------------------------------------\n| Languages Known | Read | Write | Speak |\n|:---------------:|:----:|:-----:|:-----:|\n| English | Yes | Yes | Yes |\n| Tamil | Yes | Yes | Yes |\n| Hindi | Yes | No | No |",
      "metadata": {}
    }
  ]
}